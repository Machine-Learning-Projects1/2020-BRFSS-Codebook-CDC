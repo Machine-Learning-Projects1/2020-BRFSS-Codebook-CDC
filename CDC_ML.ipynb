{
 "cells": [
  {
   "cell_type": "markdown",
   "metadata": {},
   "source": [
    "# Business Understanding\n",
    "Heart disease is the leading cause of death in the United States. The term \"heart disease\" refers to several types of heart conditions. The most common type of heart disease in the United States is coronary artery disease (CAD), which can lead to a heart attack. Machine learning leads to a better understanding of how we can predict heart disease."
   ]
  },
  {
   "cell_type": "code",
   "execution_count": null,
   "metadata": {},
   "outputs": [],
   "source": []
  }
 ],
 "metadata": {
  "language_info": {
   "name": "python"
  },
  "orig_nbformat": 4
 },
 "nbformat": 4,
 "nbformat_minor": 2
}
